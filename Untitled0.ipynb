{
  "nbformat": 4,
  "nbformat_minor": 0,
  "metadata": {
    "colab": {
      "name": "Untitled0.ipynb",
      "provenance": [],
      "authorship_tag": "ABX9TyMnS7a0tJqdvgtFnp2+vLci",
      "include_colab_link": true
    },
    "kernelspec": {
      "name": "python3",
      "display_name": "Python 3"
    },
    "language_info": {
      "name": "python"
    }
  },
  "cells": [
    {
      "cell_type": "markdown",
      "metadata": {
        "id": "view-in-github",
        "colab_type": "text"
      },
      "source": [
        "<a href=\"https://colab.research.google.com/github/briticos/all-cash-ka/blob/briticos-patch-1/Untitled0.ipynb\" target=\"_parent\"><img src=\"https://colab.research.google.com/assets/colab-badge.svg\" alt=\"Open In Colab\"/></a>"
      ]
    },
    {
      "cell_type": "code",
      "metadata": {
        "id": "Q5SsP0mGdSxj"
      },
      "source": [
        "#include <iostream>\n",
        "\n",
        "using namespace std;\n",
        "\n",
        "struct tree {\n",
        "    int key;\n",
        "    struct tree *right, *left;\n",
        "};\n",
        "\n",
        "void add_in_tree(tree **newtree, tree *elem) {\n",
        "    tree *now;\n",
        "    now = *newtree;\n",
        "    if (now == NULL) *newtree = elem;\n",
        "    else {\n",
        "        if (elem->key < now->key)\n",
        "            add_in_tree(&now->left, elem);\n",
        "        else\n",
        "            add_in_tree(&now->right, elem);\n",
        "    }\n",
        "}\n",
        "\n",
        "int height_tree(tree *newtree) {\n",
        "    int hl = 0, hr = 0;\n",
        "    if (newtree == NULL)\n",
        "        return 0;\n",
        "    if (newtree->left)\n",
        "        hl = height_tree(newtree->left);\n",
        "    if (newtree->right)\n",
        "        hl = height_tree(newtree->right);\n",
        "    if (hl > hr) return hl;\n",
        "    else return hr;\n",
        "}\n",
        "\n",
        "void print_tree(tree *newtree) {\n",
        "    int root = newtree->key;\n",
        "    cout << root;\n",
        "    while (newtree->left != NULL or newtree->right != NULL) {\n",
        "        print_tree(newtree->left);\n",
        "        print_tree(newtree->right);\n",
        "    }\n",
        "}\n",
        "void print_tree(tree *newtree) {\n",
        "    int root = newtree->key;\n",
        "    cout << root;\n",
        "    while (newtree->left != NULL or newtree->right != NULL) {\n",
        "        print_tree(newtree->left);\n",
        "        print_tree(newtree->right);\n",
        "    }\n",
        "}\n",
        "\n",
        "int main() {\n",
        "    tree *newtree = NULL;\n",
        "    tree *elem;\n",
        "    int n;\n",
        "    cin >> n;\n",
        "    int K, L, R;\n",
        "    for (int i = 0; i < n; i++) {\n",
        "        cin >> K >> L >> R;\n",
        "        elem = new tree;\n",
        "        elem->key = K;\n",
        "        elem->right = NULL;\n",
        "        elem->left = NULL;\n",
        "        add_in_tree(&newtree, elem);\n",
        "    }\n",
        "    print_tree(newtree);\n",
        "    height_tree(newtree);\n",
        "    return 0;\n",
        "}\n"
      ],
      "execution_count": 1,
      "outputs": []
    }
  ]
}